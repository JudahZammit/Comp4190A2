{
 "cells": [
  {
   "cell_type": "code",
   "execution_count": 1,
   "metadata": {},
   "outputs": [],
   "source": [
    "import sklearn as sk\n",
    "import pandas as pd\n",
    "from sklearn.ensemble import RandomForestClassifier\n",
    "from sklearn.tree import DecisionTreeClassifier\n",
    "from sklearn.model_selection import cross_val_score\n",
    "import tensorflow as tf\n",
    "import tensorflow.keras as keras\n",
    "from tensorflow.keras.utils import to_categorical"
   ]
  },
  {
   "cell_type": "code",
   "execution_count": 2,
   "metadata": {},
   "outputs": [],
   "source": [
    "data = pd.read_csv('./q2/all_data.csv',index_col =0)"
   ]
  },
  {
   "cell_type": "code",
   "execution_count": 3,
   "metadata": {},
   "outputs": [],
   "source": [
    "rand = data.sample(frac=1).reset_index(drop=True)"
   ]
  },
  {
   "cell_type": "code",
   "execution_count": 4,
   "metadata": {},
   "outputs": [],
   "source": [
    "Test = rand.iloc[:10]\n",
    "Train = rand.iloc[10:]"
   ]
  },
  {
   "cell_type": "code",
   "execution_count": 5,
   "metadata": {},
   "outputs": [],
   "source": [
    "X_train  = Train.drop('label',axis = 1)\n",
    "y_train = Train['label']\n",
    "\n",
    "X_test = Test.drop('label',axis = 1)\n",
    "y_test = Test['label']"
   ]
  },
  {
   "cell_type": "code",
   "execution_count": 6,
   "metadata": {},
   "outputs": [],
   "source": [
    "rf = RandomForestClassifier()"
   ]
  },
  {
   "cell_type": "code",
   "execution_count": 7,
   "metadata": {},
   "outputs": [
    {
     "data": {
      "text/plain": [
       "0.925"
      ]
     },
     "execution_count": 7,
     "metadata": {},
     "output_type": "execute_result"
    }
   ],
   "source": [
    "cross_val_score(rf,X_train,y_train,cv=5).mean()"
   ]
  },
  {
   "cell_type": "code",
   "execution_count": 8,
   "metadata": {},
   "outputs": [
    {
     "data": {
      "text/plain": [
       "RandomForestClassifier(bootstrap=True, ccp_alpha=0.0, class_weight=None,\n",
       "                       criterion='gini', max_depth=None, max_features='auto',\n",
       "                       max_leaf_nodes=None, max_samples=None,\n",
       "                       min_impurity_decrease=0.0, min_impurity_split=None,\n",
       "                       min_samples_leaf=1, min_samples_split=2,\n",
       "                       min_weight_fraction_leaf=0.0, n_estimators=100,\n",
       "                       n_jobs=None, oob_score=False, random_state=None,\n",
       "                       verbose=0, warm_start=False)"
      ]
     },
     "execution_count": 8,
     "metadata": {},
     "output_type": "execute_result"
    }
   ],
   "source": [
    "rf.fit(X=X_train,y = y_train)"
   ]
  },
  {
   "cell_type": "code",
   "execution_count": 9,
   "metadata": {},
   "outputs": [
    {
     "data": {
      "text/plain": [
       "1.0"
      ]
     },
     "execution_count": 9,
     "metadata": {},
     "output_type": "execute_result"
    }
   ],
   "source": [
    "rf.score(X_test,y_test)"
   ]
  },
  {
   "cell_type": "code",
   "execution_count": 10,
   "metadata": {},
   "outputs": [],
   "source": [
    "DR_RATE = 0.5\n",
    "inputs = keras.layers.Input(X_train.shape[1])\n",
    "\n",
    "x = keras.layers.Dense(500)(inputs)\n",
    "x = keras.layers.LeakyReLU()(x)\n",
    "x = keras.layers.BatchNormalization()(x)\n",
    "x = keras.layers.Dropout(DR_RATE)(x)\n",
    "\n",
    "x = keras.layers.Dense(500)(x)\n",
    "x = keras.layers.LeakyReLU()(x)\n",
    "x = keras.layers.BatchNormalization()(x)\n",
    "x = keras.layers.Dropout(DR_RATE)(x)\n",
    "\n",
    "out = keras.layers.Dense(5,activation = 'softmax')(x)\n",
    "model = keras.models.Model(inputs,out)"
   ]
  },
  {
   "cell_type": "code",
   "execution_count": 11,
   "metadata": {},
   "outputs": [],
   "source": [
    "tf_X_train = X_train.to_numpy()\n",
    "tf_y_train = sk.preprocessing.OneHotEncoder(sparse = False).fit_transform(y_train.to_numpy().reshape(-1,1))\n",
    "tf_X_test = X_test.to_numpy()\n",
    "tf_y_test = sk.preprocessing.OneHotEncoder(sparse = False).fit_transform(y_test.to_numpy().reshape(-1,1))"
   ]
  },
  {
   "cell_type": "code",
   "execution_count": 12,
   "metadata": {},
   "outputs": [
    {
     "name": "stdout",
     "output_type": "stream",
     "text": [
      "Train on 40 samples, validate on 10 samples\n",
      "Epoch 1/100\n",
      "40/40 [==============================] - 2s 42ms/sample - loss: 2.5014 - acc: 0.2750 - val_loss: 1.2500 - val_acc: 0.8000\n",
      "Epoch 2/100\n",
      "40/40 [==============================] - 0s 2ms/sample - loss: 1.1858 - acc: 0.5750 - val_loss: 0.9360 - val_acc: 1.0000\n",
      "Epoch 3/100\n",
      "40/40 [==============================] - 0s 1ms/sample - loss: 0.5244 - acc: 0.8000 - val_loss: 0.7144 - val_acc: 1.0000\n",
      "Epoch 4/100\n",
      "40/40 [==============================] - 0s 1ms/sample - loss: 0.4228 - acc: 0.8750 - val_loss: 0.5589 - val_acc: 1.0000\n",
      "Epoch 5/100\n",
      "40/40 [==============================] - 0s 2ms/sample - loss: 0.2426 - acc: 0.9250 - val_loss: 0.4524 - val_acc: 1.0000\n",
      "Epoch 6/100\n",
      "40/40 [==============================] - 0s 2ms/sample - loss: 0.0307 - acc: 1.0000 - val_loss: 0.3771 - val_acc: 1.0000\n",
      "Epoch 7/100\n",
      "40/40 [==============================] - 0s 2ms/sample - loss: 0.0784 - acc: 0.9500 - val_loss: 0.3232 - val_acc: 1.0000\n",
      "Epoch 8/100\n",
      "40/40 [==============================] - 0s 2ms/sample - loss: 0.0449 - acc: 1.0000 - val_loss: 0.2849 - val_acc: 1.0000\n",
      "Epoch 9/100\n",
      "40/40 [==============================] - 0s 2ms/sample - loss: 0.0556 - acc: 0.9750 - val_loss: 0.2567 - val_acc: 1.0000\n",
      "Epoch 10/100\n",
      "40/40 [==============================] - 0s 2ms/sample - loss: 0.1545 - acc: 0.9750 - val_loss: 0.2337 - val_acc: 1.0000\n",
      "Epoch 11/100\n",
      "40/40 [==============================] - 0s 2ms/sample - loss: 0.0194 - acc: 1.0000 - val_loss: 0.2154 - val_acc: 1.0000\n",
      "Epoch 12/100\n",
      "40/40 [==============================] - 0s 2ms/sample - loss: 0.0065 - acc: 1.0000 - val_loss: 0.2012 - val_acc: 1.0000\n",
      "Epoch 13/100\n",
      "40/40 [==============================] - 0s 2ms/sample - loss: 0.0091 - acc: 1.0000 - val_loss: 0.1892 - val_acc: 1.0000\n",
      "Epoch 14/100\n",
      "40/40 [==============================] - 0s 2ms/sample - loss: 0.0157 - acc: 1.0000 - val_loss: 0.1797 - val_acc: 1.0000\n",
      "Epoch 15/100\n",
      "40/40 [==============================] - 0s 2ms/sample - loss: 0.0062 - acc: 1.0000 - val_loss: 0.1724 - val_acc: 1.0000\n",
      "Epoch 16/100\n",
      "40/40 [==============================] - 0s 2ms/sample - loss: 0.0068 - acc: 1.0000 - val_loss: 0.1663 - val_acc: 1.0000\n",
      "Epoch 17/100\n",
      "40/40 [==============================] - 0s 2ms/sample - loss: 0.0111 - acc: 1.0000 - val_loss: 0.1607 - val_acc: 0.9000\n",
      "Epoch 18/100\n",
      "40/40 [==============================] - 0s 1ms/sample - loss: 0.0172 - acc: 1.0000 - val_loss: 0.1545 - val_acc: 1.0000\n",
      "Epoch 19/100\n",
      "40/40 [==============================] - 0s 3ms/sample - loss: 0.0221 - acc: 1.0000 - val_loss: 0.1486 - val_acc: 1.0000\n",
      "Epoch 20/100\n",
      "40/40 [==============================] - 0s 2ms/sample - loss: 0.0142 - acc: 1.0000 - val_loss: 0.1437 - val_acc: 1.0000\n",
      "Epoch 21/100\n",
      "40/40 [==============================] - 0s 2ms/sample - loss: 4.3966e-04 - acc: 1.0000 - val_loss: 0.1395 - val_acc: 1.0000\n",
      "Epoch 22/100\n",
      "40/40 [==============================] - 0s 2ms/sample - loss: 5.2933e-04 - acc: 1.0000 - val_loss: 0.1358 - val_acc: 1.0000\n",
      "Epoch 23/100\n",
      "40/40 [==============================] - 0s 2ms/sample - loss: 0.0038 - acc: 1.0000 - val_loss: 0.1323 - val_acc: 1.0000\n",
      "Epoch 24/100\n",
      "40/40 [==============================] - 0s 2ms/sample - loss: 8.3333e-04 - acc: 1.0000 - val_loss: 0.1295 - val_acc: 1.0000\n",
      "Epoch 25/100\n",
      "40/40 [==============================] - 0s 2ms/sample - loss: 0.0012 - acc: 1.0000 - val_loss: 0.1269 - val_acc: 1.0000\n",
      "Epoch 26/100\n",
      "40/40 [==============================] - 0s 2ms/sample - loss: 4.9147e-04 - acc: 1.0000 - val_loss: 0.1247 - val_acc: 1.0000\n",
      "Epoch 27/100\n",
      "40/40 [==============================] - 0s 2ms/sample - loss: 0.0015 - acc: 1.0000 - val_loss: 0.1226 - val_acc: 1.0000\n",
      "Epoch 28/100\n",
      "40/40 [==============================] - 0s 2ms/sample - loss: 0.0014 - acc: 1.0000 - val_loss: 0.1212 - val_acc: 1.0000\n",
      "Epoch 29/100\n",
      "40/40 [==============================] - 0s 2ms/sample - loss: 4.3560e-04 - acc: 1.0000 - val_loss: 0.1195 - val_acc: 1.0000\n",
      "Epoch 30/100\n",
      "40/40 [==============================] - 0s 2ms/sample - loss: 0.0445 - acc: 0.9750 - val_loss: 0.1162 - val_acc: 1.0000\n",
      "Epoch 31/100\n",
      "40/40 [==============================] - 0s 1ms/sample - loss: 0.0022 - acc: 1.0000 - val_loss: 0.1130 - val_acc: 1.0000\n",
      "Epoch 32/100\n",
      "40/40 [==============================] - 0s 1ms/sample - loss: 0.0021 - acc: 1.0000 - val_loss: 0.1106 - val_acc: 1.0000\n",
      "Epoch 33/100\n",
      "40/40 [==============================] - 0s 2ms/sample - loss: 3.3555e-04 - acc: 1.0000 - val_loss: 0.1085 - val_acc: 1.0000\n",
      "Epoch 34/100\n",
      "40/40 [==============================] - 0s 1ms/sample - loss: 7.9449e-04 - acc: 1.0000 - val_loss: 0.1065 - val_acc: 1.0000\n",
      "Epoch 35/100\n",
      "40/40 [==============================] - 0s 2ms/sample - loss: 0.0011 - acc: 1.0000 - val_loss: 0.1048 - val_acc: 1.0000\n",
      "Epoch 36/100\n",
      "40/40 [==============================] - 0s 4ms/sample - loss: 3.9693e-04 - acc: 1.0000 - val_loss: 0.1031 - val_acc: 1.0000\n",
      "Epoch 37/100\n",
      "40/40 [==============================] - 0s 2ms/sample - loss: 8.1546e-04 - acc: 1.0000 - val_loss: 0.1016 - val_acc: 1.0000\n",
      "Epoch 38/100\n",
      "40/40 [==============================] - 0s 2ms/sample - loss: 8.3378e-04 - acc: 1.0000 - val_loss: 0.1003 - val_acc: 1.0000\n",
      "Epoch 39/100\n",
      "40/40 [==============================] - 0s 2ms/sample - loss: 3.0067e-04 - acc: 1.0000 - val_loss: 0.0987 - val_acc: 1.0000\n",
      "Epoch 40/100\n",
      "40/40 [==============================] - 0s 2ms/sample - loss: 3.4759e-04 - acc: 1.0000 - val_loss: 0.0975 - val_acc: 1.0000\n",
      "Epoch 41/100\n",
      "40/40 [==============================] - 0s 2ms/sample - loss: 0.0019 - acc: 1.0000 - val_loss: 0.0961 - val_acc: 1.0000\n",
      "Epoch 42/100\n",
      "40/40 [==============================] - 0s 2ms/sample - loss: 0.0025 - acc: 1.0000 - val_loss: 0.0948 - val_acc: 1.0000\n",
      "Epoch 43/100\n",
      "40/40 [==============================] - 0s 2ms/sample - loss: 7.9653e-04 - acc: 1.0000 - val_loss: 0.0937 - val_acc: 1.0000\n",
      "Epoch 44/100\n",
      "40/40 [==============================] - 0s 2ms/sample - loss: 8.7815e-05 - acc: 1.0000 - val_loss: 0.0929 - val_acc: 1.0000\n",
      "Epoch 45/100\n",
      "40/40 [==============================] - 0s 2ms/sample - loss: 0.0011 - acc: 1.0000 - val_loss: 0.0920 - val_acc: 1.0000\n",
      "Epoch 46/100\n",
      "40/40 [==============================] - 0s 2ms/sample - loss: 4.6538e-04 - acc: 1.0000 - val_loss: 0.0910 - val_acc: 1.0000\n",
      "Epoch 47/100\n",
      "40/40 [==============================] - 0s 2ms/sample - loss: 3.0251e-04 - acc: 1.0000 - val_loss: 0.0901 - val_acc: 1.0000\n",
      "Epoch 48/100\n",
      "40/40 [==============================] - 0s 1ms/sample - loss: 8.6350e-05 - acc: 1.0000 - val_loss: 0.0894 - val_acc: 1.0000\n",
      "Epoch 49/100\n",
      "40/40 [==============================] - 0s 2ms/sample - loss: 1.8030e-04 - acc: 1.0000 - val_loss: 0.0887 - val_acc: 1.0000\n",
      "Epoch 50/100\n",
      "40/40 [==============================] - 0s 2ms/sample - loss: 0.0010 - acc: 1.0000 - val_loss: 0.0882 - val_acc: 1.0000\n",
      "Epoch 51/100\n",
      "40/40 [==============================] - 0s 1ms/sample - loss: 1.1256e-04 - acc: 1.0000 - val_loss: 0.0876 - val_acc: 1.0000\n",
      "Epoch 52/100\n",
      "40/40 [==============================] - 0s 2ms/sample - loss: 1.6790e-04 - acc: 1.0000 - val_loss: 0.0869 - val_acc: 1.0000\n",
      "Epoch 53/100\n",
      "40/40 [==============================] - 0s 2ms/sample - loss: 4.4806e-04 - acc: 1.0000 - val_loss: 0.0863 - val_acc: 1.0000\n",
      "Epoch 54/100\n",
      "40/40 [==============================] - 0s 2ms/sample - loss: 0.0047 - acc: 1.0000 - val_loss: 0.0858 - val_acc: 1.0000\n",
      "Epoch 55/100\n",
      "40/40 [==============================] - 0s 2ms/sample - loss: 7.1479e-04 - acc: 1.0000 - val_loss: 0.0856 - val_acc: 1.0000\n",
      "Epoch 56/100\n",
      "40/40 [==============================] - 0s 1ms/sample - loss: 4.5880e-04 - acc: 1.0000 - val_loss: 0.0851 - val_acc: 1.0000\n",
      "Epoch 57/100\n",
      "40/40 [==============================] - 0s 2ms/sample - loss: 0.0061 - acc: 1.0000 - val_loss: 0.0849 - val_acc: 1.0000\n",
      "Epoch 58/100\n",
      "40/40 [==============================] - 0s 2ms/sample - loss: 4.2436e-04 - acc: 1.0000 - val_loss: 0.0846 - val_acc: 1.0000\n",
      "Epoch 59/100\n",
      "40/40 [==============================] - 0s 1ms/sample - loss: 1.1658e-04 - acc: 1.0000 - val_loss: 0.0844 - val_acc: 1.0000\n",
      "Epoch 60/100\n",
      "40/40 [==============================] - 0s 2ms/sample - loss: 3.5036e-04 - acc: 1.0000 - val_loss: 0.0844 - val_acc: 1.0000\n",
      "Epoch 61/100\n",
      "40/40 [==============================] - 0s 2ms/sample - loss: 7.0627e-04 - acc: 1.0000 - val_loss: 0.0842 - val_acc: 1.0000\n"
     ]
    },
    {
     "name": "stdout",
     "output_type": "stream",
     "text": [
      "Epoch 62/100\n",
      "40/40 [==============================] - 0s 1ms/sample - loss: 2.8354e-04 - acc: 1.0000 - val_loss: 0.0840 - val_acc: 1.0000\n",
      "Epoch 63/100\n",
      "40/40 [==============================] - 0s 2ms/sample - loss: 4.9341e-04 - acc: 1.0000 - val_loss: 0.0840 - val_acc: 1.0000\n",
      "Epoch 64/100\n",
      "40/40 [==============================] - 0s 2ms/sample - loss: 4.9662e-04 - acc: 1.0000 - val_loss: 0.0838 - val_acc: 1.0000\n",
      "Epoch 65/100\n",
      "40/40 [==============================] - 0s 2ms/sample - loss: 3.6296e-04 - acc: 1.0000 - val_loss: 0.0836 - val_acc: 1.0000\n",
      "Epoch 66/100\n",
      "40/40 [==============================] - 0s 1ms/sample - loss: 2.3681e-04 - acc: 1.0000 - val_loss: 0.0833 - val_acc: 1.0000\n",
      "Epoch 67/100\n",
      "40/40 [==============================] - 0s 2ms/sample - loss: 0.0014 - acc: 1.0000 - val_loss: 0.0828 - val_acc: 1.0000\n",
      "Epoch 68/100\n",
      "40/40 [==============================] - 0s 1ms/sample - loss: 5.9053e-04 - acc: 1.0000 - val_loss: 0.0824 - val_acc: 1.0000\n",
      "Epoch 69/100\n",
      "40/40 [==============================] - 0s 1ms/sample - loss: 1.1445e-04 - acc: 1.0000 - val_loss: 0.0821 - val_acc: 1.0000\n",
      "Epoch 70/100\n",
      "40/40 [==============================] - 0s 2ms/sample - loss: 1.2729e-04 - acc: 1.0000 - val_loss: 0.0818 - val_acc: 1.0000\n",
      "Epoch 71/100\n",
      "40/40 [==============================] - 0s 1ms/sample - loss: 1.2847e-04 - acc: 1.0000 - val_loss: 0.0814 - val_acc: 1.0000\n",
      "Epoch 72/100\n",
      "40/40 [==============================] - 0s 1ms/sample - loss: 0.0017 - acc: 1.0000 - val_loss: 0.0808 - val_acc: 1.0000\n",
      "Epoch 73/100\n",
      "40/40 [==============================] - 0s 1ms/sample - loss: 8.4173e-04 - acc: 1.0000 - val_loss: 0.0802 - val_acc: 1.0000\n",
      "Epoch 74/100\n",
      "40/40 [==============================] - 0s 1ms/sample - loss: 4.3074e-04 - acc: 1.0000 - val_loss: 0.0796 - val_acc: 1.0000\n",
      "Epoch 75/100\n",
      "40/40 [==============================] - 0s 1ms/sample - loss: 2.8774e-04 - acc: 1.0000 - val_loss: 0.0791 - val_acc: 1.0000\n",
      "Epoch 76/100\n",
      "40/40 [==============================] - 0s 1ms/sample - loss: 1.1108e-04 - acc: 1.0000 - val_loss: 0.0785 - val_acc: 1.0000\n",
      "Epoch 77/100\n",
      "40/40 [==============================] - 0s 1ms/sample - loss: 0.0021 - acc: 1.0000 - val_loss: 0.0778 - val_acc: 1.0000\n",
      "Epoch 78/100\n",
      "40/40 [==============================] - 0s 1ms/sample - loss: 2.3702e-04 - acc: 1.0000 - val_loss: 0.0773 - val_acc: 1.0000\n",
      "Epoch 79/100\n",
      "40/40 [==============================] - 0s 2ms/sample - loss: 7.6812e-05 - acc: 1.0000 - val_loss: 0.0766 - val_acc: 1.0000\n",
      "Epoch 80/100\n",
      "40/40 [==============================] - 0s 1ms/sample - loss: 3.2158e-04 - acc: 1.0000 - val_loss: 0.0763 - val_acc: 1.0000\n",
      "Epoch 81/100\n",
      "40/40 [==============================] - 0s 2ms/sample - loss: 3.7034e-04 - acc: 1.0000 - val_loss: 0.0758 - val_acc: 1.0000\n",
      "Epoch 82/100\n",
      "40/40 [==============================] - 0s 1ms/sample - loss: 3.1127e-04 - acc: 1.0000 - val_loss: 0.0753 - val_acc: 1.0000\n",
      "Epoch 83/100\n",
      "40/40 [==============================] - 0s 795us/sample - loss: 6.3461e-05 - acc: 1.0000 - val_loss: 0.0749 - val_acc: 1.0000\n",
      "Epoch 84/100\n",
      "40/40 [==============================] - 0s 1ms/sample - loss: 1.0463e-04 - acc: 1.0000 - val_loss: 0.0745 - val_acc: 1.0000\n",
      "Epoch 85/100\n",
      "40/40 [==============================] - 0s 1ms/sample - loss: 4.0706e-04 - acc: 1.0000 - val_loss: 0.0738 - val_acc: 1.0000\n",
      "Epoch 86/100\n",
      "40/40 [==============================] - 0s 2ms/sample - loss: 1.0989e-04 - acc: 1.0000 - val_loss: 0.0734 - val_acc: 1.0000\n",
      "Epoch 87/100\n",
      "40/40 [==============================] - 0s 1ms/sample - loss: 1.2409e-04 - acc: 1.0000 - val_loss: 0.0729 - val_acc: 1.0000\n",
      "Epoch 88/100\n",
      "40/40 [==============================] - 0s 1ms/sample - loss: 5.4783e-05 - acc: 1.0000 - val_loss: 0.0725 - val_acc: 1.0000\n",
      "Epoch 89/100\n",
      "40/40 [==============================] - 0s 2ms/sample - loss: 9.2336e-04 - acc: 1.0000 - val_loss: 0.0721 - val_acc: 1.0000\n",
      "Epoch 90/100\n",
      "40/40 [==============================] - 0s 1ms/sample - loss: 6.5308e-04 - acc: 1.0000 - val_loss: 0.0717 - val_acc: 1.0000\n",
      "Epoch 91/100\n",
      "40/40 [==============================] - 0s 1ms/sample - loss: 8.8136e-04 - acc: 1.0000 - val_loss: 0.0715 - val_acc: 1.0000\n",
      "Epoch 92/100\n",
      "40/40 [==============================] - 0s 2ms/sample - loss: 3.1680e-04 - acc: 1.0000 - val_loss: 0.0711 - val_acc: 1.0000\n",
      "Epoch 93/100\n",
      "40/40 [==============================] - 0s 2ms/sample - loss: 6.3053e-05 - acc: 1.0000 - val_loss: 0.0707 - val_acc: 1.0000\n",
      "Epoch 94/100\n",
      "40/40 [==============================] - 0s 2ms/sample - loss: 1.0480e-04 - acc: 1.0000 - val_loss: 0.0703 - val_acc: 1.0000\n",
      "Epoch 95/100\n",
      "40/40 [==============================] - 0s 2ms/sample - loss: 4.1118e-05 - acc: 1.0000 - val_loss: 0.0701 - val_acc: 1.0000\n",
      "Epoch 96/100\n",
      "40/40 [==============================] - 0s 2ms/sample - loss: 1.6568e-04 - acc: 1.0000 - val_loss: 0.0699 - val_acc: 1.0000\n",
      "Epoch 97/100\n",
      "40/40 [==============================] - 0s 3ms/sample - loss: 2.4293e-04 - acc: 1.0000 - val_loss: 0.0696 - val_acc: 1.0000\n",
      "Epoch 98/100\n",
      "40/40 [==============================] - 0s 2ms/sample - loss: 6.9445e-04 - acc: 1.0000 - val_loss: 0.0695 - val_acc: 1.0000\n",
      "Epoch 99/100\n",
      "40/40 [==============================] - 0s 1ms/sample - loss: 1.3070e-04 - acc: 1.0000 - val_loss: 0.0692 - val_acc: 1.0000\n",
      "Epoch 100/100\n",
      "40/40 [==============================] - 0s 2ms/sample - loss: 1.3082e-04 - acc: 1.0000 - val_loss: 0.0690 - val_acc: 1.0000\n"
     ]
    },
    {
     "data": {
      "text/plain": [
       "<tensorflow.python.keras.callbacks.History at 0x7f74cdf6abd0>"
      ]
     },
     "execution_count": 12,
     "metadata": {},
     "output_type": "execute_result"
    }
   ],
   "source": [
    "model.compile('Adam',loss = 'categorical_crossentropy',metrics = ['acc'])\n",
    "model.fit(tf_X_train,tf_y_train,\n",
    "          validation_data=(tf_X_test,tf_y_test),\n",
    "          epochs = 100,batch_size = 40)"
   ]
  },
  {
   "cell_type": "code",
   "execution_count": 13,
   "metadata": {},
   "outputs": [
    {
     "data": {
      "text/plain": [
       "(40, 54)"
      ]
     },
     "execution_count": 13,
     "metadata": {},
     "output_type": "execute_result"
    }
   ],
   "source": [
    "tf_X_train.shape"
   ]
  },
  {
   "cell_type": "code",
   "execution_count": null,
   "metadata": {},
   "outputs": [],
   "source": []
  },
  {
   "cell_type": "code",
   "execution_count": null,
   "metadata": {},
   "outputs": [],
   "source": []
  }
 ],
 "metadata": {
  "kernelspec": {
   "display_name": "Python 3",
   "language": "python",
   "name": "python3"
  },
  "language_info": {
   "codemirror_mode": {
    "name": "ipython",
    "version": 3
   },
   "file_extension": ".py",
   "mimetype": "text/x-python",
   "name": "python",
   "nbconvert_exporter": "python",
   "pygments_lexer": "ipython3",
   "version": "3.7.6"
  }
 },
 "nbformat": 4,
 "nbformat_minor": 4
}
